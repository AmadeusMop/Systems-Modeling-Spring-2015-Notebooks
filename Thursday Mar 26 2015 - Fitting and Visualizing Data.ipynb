{
 "metadata": {
  "name": "",
  "signature": "sha256:91fc78b7ad67133cfdcfbfb3f864a8b079676ff40afcc07972dcc1aadbfb699e"
 },
 "nbformat": 3,
 "nbformat_minor": 0,
 "worksheets": [
  {
   "cells": [
    {
     "cell_type": "code",
     "collapsed": false,
     "input": [
      "from science import *"
     ],
     "language": "python",
     "metadata": {},
     "outputs": [],
     "prompt_number": 18
    },
    {
     "cell_type": "markdown",
     "metadata": {},
     "source": [
      "## Anscombe\u2019s quartet"
     ]
    },
    {
     "cell_type": "code",
     "collapsed": false,
     "input": [
      "x1= array([ 10.,   8.,  13.,   9.,  11.,  14.,   6.,   4.,  12.,   7.,   5.])\n",
      "y1= array([  8.04,   6.95,   7.58,   8.81,   8.33,   9.96,   7.24,   4.26,\n",
      "        10.84,   4.82,   5.68])\n",
      "\n",
      "x2= array([ 10.,   8.,  13.,   9.,  11.,  14.,   6.,   4.,  12.,   7.,   5.])\n",
      "y2= array([ 9.14,  8.14,  8.74,  8.77,  9.26,  8.1 ,  6.13,  3.1 ,  9.13,\n",
      "        7.26,  4.74])\n",
      "\n",
      "x3= array([ 10.,   8.,  13.,   9.,  11.,  14.,   6.,   4.,  12.,   7.,   5.])\n",
      "y3= array([  7.46,   6.77,  12.74,   7.11,   7.81,   8.84,   6.08,   5.39,\n",
      "         8.15,   6.42,   5.73])\n",
      "\n",
      "x4= array([  8.,   8.,   8.,   8.,   8.,   8.,   8.,  19.,   8.,   8.,   8.])\n",
      "y4= array([  6.58,   5.76,   7.71,   8.84,   8.47,   7.04,   5.25,  12.5 ,\n",
      "         5.56,   7.91,   6.89])"
     ],
     "language": "python",
     "metadata": {},
     "outputs": [],
     "prompt_number": 19
    },
    {
     "cell_type": "code",
     "collapsed": false,
     "input": [
      "print \"Means:\",mean(x1),mean(y1)\n",
      "print \"Standard Deviations:\",std(x1),std(y1)"
     ],
     "language": "python",
     "metadata": {},
     "outputs": [
      {
       "output_type": "stream",
       "stream": "stdout",
       "text": [
        "Means: 9.0 7.50090909091\n",
        "Standard Deviations: 3.16227766017 1.93702421511\n"
       ]
      }
     ],
     "prompt_number": 31
    },
    {
     "cell_type": "markdown",
     "metadata": {},
     "source": [
      "What are the means, etc... for the other data?"
     ]
    },
    {
     "cell_type": "markdown",
     "metadata": {},
     "source": [
      "## Visualizing and Fitting"
     ]
    },
    {
     "cell_type": "code",
     "collapsed": false,
     "input": [
      "plot(x1,y1,'o')\n",
      "result=fit(x1,y1,'linear')\n",
      "print result\n",
      "\n",
      "x=linspace(4,14,20)\n",
      "y=fitval(result,x)\n",
      "plot(x,y)\n",
      "title(result['label'])"
     ],
     "language": "python",
     "metadata": {},
     "outputs": [
      {
       "output_type": "stream",
       "stream": "stdout",
       "text": [
        "{'type': 'linear', 'pandas_result': \n",
        "-------------------------Summary of Regression Analysis-------------------------\n",
        "\n",
        "Formula: Y ~ <x> + <intercept>\n",
        "\n",
        "Number of Observations:         11\n",
        "Number of Degrees of Freedom:   2\n",
        "\n",
        "R-squared:         0.6665\n",
        "Adj R-squared:     0.6295\n",
        "\n",
        "Rmse:              1.2366\n",
        "\n",
        "F-stat (1, 9):    17.9899, p-value:     0.0022\n",
        "\n",
        "Degrees of Freedom: model 1, resid 9\n",
        "\n",
        "-----------------------Summary of Estimated Coefficients------------------------\n",
        "      Variable       Coef    Std Err     t-stat    p-value    CI 2.5%   CI 97.5%\n",
        "--------------------------------------------------------------------------------\n",
        "             x     0.5001     0.1179       4.24     0.0022     0.2690     0.7312\n",
        "     intercept     3.0001     1.1247       2.67     0.0257     0.7956     5.2046\n",
        "---------------------------------End of Summary---------------------------------\n",
        ", 'params': [0.50009090909090936, 3.0000909090909058], 'label': 'y= 5.0009e-01 x + 3.0001e+00'}\n"
       ]
      },
      {
       "metadata": {},
       "output_type": "pyout",
       "prompt_number": 28,
       "text": [
        "<matplotlib.text.Text at 0x1112aa310>"
       ]
      },
      {
       "metadata": {},
       "output_type": "display_data",
       "png": "[encoded data removed]",
       "text": [
        "<matplotlib.figure.Figure at 0x1107eb410>"
       ]
      }
     ],
     "prompt_number": 28
    },
    {
     "cell_type": "markdown",
     "metadata": {},
     "source": [
      "what does it look like for the other data?"
     ]
    },
    {
     "cell_type": "code",
     "collapsed": false,
     "input": [],
     "language": "python",
     "metadata": {},
     "outputs": []
    }
   ],
   "metadata": {}
  }
 ]
}