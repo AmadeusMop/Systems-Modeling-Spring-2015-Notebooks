{
 "metadata": {
  "name": "",
  "signature": "sha256:38360878820148f7537e78d3ccf13ce1d7585a4adb0fb2d792ef241b68316a2d"
 },
 "nbformat": 3,
 "nbformat_minor": 0,
 "worksheets": [
  {
   "cells": [
    {
     "cell_type": "code",
     "collapsed": false,
     "input": [
      "from matplotlib.figure import Figure\n",
      "from matplotlib.axes import Subplot\n",
      "\n",
      "import matplotlib\n",
      "# for convolve2d\n",
      "import scipy.signal as sig"
     ],
     "language": "python",
     "metadata": {},
     "outputs": [],
     "prompt_number": 6
    },
    {
     "cell_type": "code",
     "collapsed": false,
     "input": [
      "from IPython.display import display, clear_output"
     ],
     "language": "python",
     "metadata": {},
     "outputs": [],
     "prompt_number": 7
    },
    {
     "cell_type": "code",
     "collapsed": false,
     "input": [
      "def paramtext(x,y,*args,**kwargs):\n",
      "\n",
      "    paramstr='\\n'.join(args)\n",
      "    props = dict(boxstyle='round', facecolor='wheat', alpha=0.5)\n",
      "\n",
      "    T=text(x,y,paramstr,\n",
      "       ha='center',\n",
      "       va='top',\n",
      "       bbox=props,\n",
      "       transform=gca().transAxes,\n",
      "       multialignment='left',\n",
      "       **kwargs)\n",
      "\n"
     ],
     "language": "python",
     "metadata": {},
     "outputs": [],
     "prompt_number": 8
    },
    {
     "cell_type": "code",
     "collapsed": false,
     "input": [
      "class Forest(object):\n",
      "\n",
      "    def __init__(self,N=100,p=.01,f=.0001,g=0.0):\n",
      "        self.neighborhood=ones((3,3))\n",
      "        self.neighborhood[1,1]=0\n",
      "        self.name=\"Forest Fire Simulation\"\n",
      "        self.p=p\n",
      "        self.f=f\n",
      "        self.N=N\n",
      "        self.g=g\n",
      "\n",
      "        self.field=zeros((self.N,self.N))\n",
      "        self.image=[self.field]\n",
      "        \n",
      "    def reset(self):\n",
      "        self.field=zeros((self.N,self.N))\n",
      "        self.image=[self.field]\n",
      "        \n",
      "    def update(self):\n",
      "                \n",
      "        r=random.rand(self.N,self.N)\n",
      "        r2=random.rand(self.N,self.N)\n",
      "    \n",
      "        empty=(self.field==0)\n",
      "        trees=(self.field==1)\n",
      "        burning=(self.field==2)\n",
      "        \n",
      "        s=sig.convolve2d(burning,self.neighborhood,mode='same')\n",
      "    \n",
      "        # grow a tree\n",
      "        self.field[(r<self.p) & empty]=1\n",
      "        \n",
      "        # burning lasts only 1 cycle\n",
      "        self.field[burning]=0\n",
      "\n",
      "        # random extra burning\n",
      "        r=random.rand(self.N,self.N)\n",
      "        self.field[(r<self.f) & trees]=2\n",
      "        \n",
      "        # burn the neighborhood\n",
      "        self.field[(s>0) & trees & (r2<(1.0-self.g))]=2\n",
      "        \n",
      "    def run(self):\n",
      "        _fig=figure(figsize=(6,6))\n",
      "        cmap=[ [0,0,0.0] , [0,1.0,0.0],[1.0,0,0]]\n",
      "        my_cmap=matplotlib.colors.ListedColormap(cmap)\n",
      "        ax=subplot(1,1,1)\n",
      "        h=pcolor(f.field,cmap=my_cmap,vmin=0,vmax=2)\n",
      "\n",
      "        paramtext(1.2,.9,\n",
      "                  'p=%.4f' % f.p,\n",
      "                  'f=%.4f' % f.f,\n",
      "                  'g=%.4f' % f.g,\n",
      "                  'N=%d' % f.N,\n",
      "                  )\n",
      "\n",
      "        axis('equal')\n",
      "        i=0\n",
      "        try:\n",
      "            while True:\n",
      "                clear_output(wait=True)\n",
      "                h.set_array(f.field.ravel())\n",
      "                title(str(i))\n",
      "                i+=1\n",
      "                f.update()\n",
      "                display(_fig)\n",
      "        except KeyboardInterrupt:\n",
      "            pass\n",
      "        \n"
     ],
     "language": "python",
     "metadata": {},
     "outputs": [],
     "prompt_number": 9
    },
    {
     "cell_type": "code",
     "collapsed": false,
     "input": [
      "f=Forest(N=100,\n",
      "         p=.01,  # tree growing\n",
      "         f=.00001,  # fire starting\n",
      "         g=0.0)  # 1-p(neighbor burning)  g=0 ==> all neighbors\n",
      "f.run()"
     ],
     "language": "python",
     "metadata": {},
     "outputs": [
      {
       "metadata": {},
       "output_type": "display_data",
       "png": "[encoded data removed]",
       "text": [
        "<matplotlib.figure.Figure at 0x115a5f510>"
       ]
      }
     ],
     "prompt_number": 17
    },
    {
     "cell_type": "code",
     "collapsed": false,
     "input": [],
     "language": "python",
     "metadata": {},
     "outputs": []
    }
   ],
   "metadata": {}
  }
 ]
}