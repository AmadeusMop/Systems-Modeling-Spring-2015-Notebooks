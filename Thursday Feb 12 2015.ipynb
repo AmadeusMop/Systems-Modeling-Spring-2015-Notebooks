{
 "metadata": {
  "name": "",
  "signature": "sha256:40439e3b199fa86086b730bce264ec85a69d4dfdf268e6d2eedfa1553d78c1b7"
 },
 "nbformat": 3,
 "nbformat_minor": 0,
 "worksheets": [
  {
   "cells": [
    {
     "cell_type": "code",
     "collapsed": false,
     "input": [
      "%gui tk\n",
      "from turtle import *"
     ],
     "language": "python",
     "metadata": {},
     "outputs": [],
     "prompt_number": 1
    },
    {
     "cell_type": "code",
     "collapsed": false,
     "input": [
      "reset()\n",
      "\n",
      "#speed(\"fastest\")\n",
      "current_color=\"red\"\n",
      "other_color=\"black\"\n",
      "\n",
      "for i in range(160):\n",
      "    pencolor(current_color)\n",
      "    forward(150)\n",
      "    backward(150)\n",
      "    left(3)\n",
      "\n",
      "    # comment - swap the colors\n",
      "    if i%3==0:\n",
      "        current_color,other_color=other_color,current_color"
     ],
     "language": "python",
     "metadata": {},
     "outputs": [],
     "prompt_number": 25
    },
    {
     "cell_type": "code",
     "collapsed": false,
     "input": [
      "current_color,other_color=other_color,current_color\n",
      "print \"Current: \",current_color\n",
      "print \"Other: \",other_color"
     ],
     "language": "python",
     "metadata": {},
     "outputs": [
      {
       "output_type": "stream",
       "stream": "stdout",
       "text": [
        "Current:  black\n",
        "Other:  red\n"
       ]
      }
     ],
     "prompt_number": 22
    },
    {
     "cell_type": "markdown",
     "metadata": {},
     "source": [
      "## Simulation example"
     ]
    },
    {
     "cell_type": "code",
     "collapsed": false,
     "input": [
      "from science import *"
     ],
     "language": "python",
     "metadata": {},
     "outputs": [],
     "prompt_number": 30
    },
    {
     "cell_type": "code",
     "collapsed": false,
     "input": [
      "x=2\n",
      "t=0\n",
      "\n",
      "constant=10\n",
      "dt=0.01"
     ],
     "language": "python",
     "metadata": {},
     "outputs": [],
     "prompt_number": 40
    },
    {
     "cell_type": "code",
     "collapsed": false,
     "input": [
      "reset()\n",
      "\n",
      "store(t,x)\n",
      "for i in range(1000):\n",
      "    dx=constant*dt\n",
      "    \n",
      "    x=x+dx\n",
      "    t=t+dt\n",
      "    \n",
      "    store(t,x)"
     ],
     "language": "python",
     "metadata": {},
     "outputs": [],
     "prompt_number": 41
    },
    {
     "cell_type": "code",
     "collapsed": false,
     "input": [
      "t,x=recall()"
     ],
     "language": "python",
     "metadata": {},
     "outputs": [],
     "prompt_number": 42
    },
    {
     "cell_type": "code",
     "collapsed": false,
     "input": [
      "x"
     ],
     "language": "python",
     "metadata": {},
     "outputs": [
      {
       "metadata": {},
       "output_type": "pyout",
       "prompt_number": 43,
       "text": [
        "array([   2. ,    2.1,    2.2, ...,  101.8,  101.9,  102. ])"
       ]
      }
     ],
     "prompt_number": 43
    },
    {
     "cell_type": "code",
     "collapsed": false,
     "input": [
      "plot(t,x)"
     ],
     "language": "python",
     "metadata": {},
     "outputs": [
      {
       "metadata": {},
       "output_type": "pyout",
       "prompt_number": 44,
       "text": [
        "[<matplotlib.lines.Line2D at 0x1179cf3d0>]"
       ]
      },
      {
       "metadata": {},
       "output_type": "display_data",
       "png": "[encoded data removed]",
       "text": [
        "<matplotlib.figure.Figure at 0x11779d290>"
       ]
      }
     ],
     "prompt_number": 44
    },
    {
     "cell_type": "markdown",
     "metadata": {},
     "source": [
      "### second simulation"
     ]
    },
    {
     "cell_type": "code",
     "collapsed": false,
     "input": [
      "x=2\n",
      "t=0\n",
      "\n",
      "constant=3\n",
      "dt=0.01"
     ],
     "language": "python",
     "metadata": {},
     "outputs": [],
     "prompt_number": 46
    },
    {
     "cell_type": "code",
     "collapsed": false,
     "input": [
      "reset()\n",
      "\n",
      "store(t,x)\n",
      "for i in range(1000):\n",
      "    dx=constant*x*dt\n",
      "    \n",
      "    x=x+dx\n",
      "    t=t+dt\n",
      "    \n",
      "    store(t,x)"
     ],
     "language": "python",
     "metadata": {},
     "outputs": [],
     "prompt_number": 47
    },
    {
     "cell_type": "code",
     "collapsed": false,
     "input": [
      "t,x=recall()"
     ],
     "language": "python",
     "metadata": {},
     "outputs": [],
     "prompt_number": 48
    },
    {
     "cell_type": "code",
     "collapsed": false,
     "input": [
      "plot(t,x)"
     ],
     "language": "python",
     "metadata": {},
     "outputs": [
      {
       "metadata": {},
       "output_type": "pyout",
       "prompt_number": 49,
       "text": [
        "[<matplotlib.lines.Line2D at 0x117cb69d0>]"
       ]
      },
      {
       "metadata": {},
       "output_type": "display_data",
       "png": "[encoded data removed]",
       "text": [
        "<matplotlib.figure.Figure at 0x1179875d0>"
       ]
      }
     ],
     "prompt_number": 49
    },
    {
     "cell_type": "code",
     "collapsed": false,
     "input": [],
     "language": "python",
     "metadata": {},
     "outputs": []
    }
   ],
   "metadata": {}
  }
 ]
}