{
 "metadata": {
  "name": "",
  "signature": "sha256:5a4c7fe59b72ef759060f80565730dc00ed76bca3115b88726b92a58b32943b9"
 },
 "nbformat": 3,
 "nbformat_minor": 0,
 "worksheets": [
  {
   "cells": [
    {
     "cell_type": "markdown",
     "metadata": {},
     "source": [
      "# This is a heading\n",
      "\n",
      "## this is a subheading\n",
      "\n",
      "* a bulleted\n",
      "* list\n",
      "* of things\n",
      "\n",
      "1. enumerated\n",
      "2. lists\n",
      "\n",
      "I like **bold** and *italic*"
     ]
    },
    {
     "cell_type": "code",
     "collapsed": false,
     "input": [
      "print \"hello world\""
     ],
     "language": "python",
     "metadata": {},
     "outputs": [
      {
       "output_type": "stream",
       "stream": "stdout",
       "text": [
        "hello world\n"
       ]
      }
     ],
     "prompt_number": 1
    },
    {
     "cell_type": "code",
     "collapsed": false,
     "input": [
      "5*100"
     ],
     "language": "python",
     "metadata": {},
     "outputs": [
      {
       "metadata": {},
       "output_type": "pyout",
       "prompt_number": 2,
       "text": [
        "500"
       ]
      }
     ],
     "prompt_number": 2
    },
    {
     "cell_type": "code",
     "collapsed": false,
     "input": [
      "5.6/2.3"
     ],
     "language": "python",
     "metadata": {},
     "outputs": [
      {
       "metadata": {},
       "output_type": "pyout",
       "prompt_number": 3,
       "text": [
        "2.4347826086956523"
       ]
      }
     ],
     "prompt_number": 3
    },
    {
     "cell_type": "markdown",
     "metadata": {},
     "source": [
      "remember - exponents use the double asterisk"
     ]
    },
    {
     "cell_type": "code",
     "collapsed": false,
     "input": [
      "3**4"
     ],
     "language": "python",
     "metadata": {},
     "outputs": [
      {
       "metadata": {},
       "output_type": "pyout",
       "prompt_number": 4,
       "text": [
        "81"
       ]
      }
     ],
     "prompt_number": 4
    },
    {
     "cell_type": "code",
     "collapsed": false,
     "input": [
      "a=5\n",
      "b=6"
     ],
     "language": "python",
     "metadata": {},
     "outputs": [],
     "prompt_number": 5
    },
    {
     "cell_type": "code",
     "collapsed": false,
     "input": [
      "sqrt(a**2+b**2)"
     ],
     "language": "python",
     "metadata": {},
     "outputs": [
      {
       "metadata": {},
       "output_type": "pyout",
       "prompt_number": 7,
       "text": [
        "7.810249675906654"
       ]
      }
     ],
     "prompt_number": 7
    },
    {
     "cell_type": "code",
     "collapsed": false,
     "input": [
      "3**100"
     ],
     "language": "python",
     "metadata": {},
     "outputs": [
      {
       "metadata": {},
       "output_type": "pyout",
       "prompt_number": 10,
       "text": [
        "515377520732011331036461129765621272702107522001L"
       ]
      }
     ],
     "prompt_number": 10
    },
    {
     "cell_type": "code",
     "collapsed": false,
     "input": [
      "%gui tk\n",
      "from turtle import *"
     ],
     "language": "python",
     "metadata": {},
     "outputs": [],
     "prompt_number": 23
    },
    {
     "cell_type": "code",
     "collapsed": false,
     "input": [
      "reset()"
     ],
     "language": "python",
     "metadata": {},
     "outputs": [],
     "prompt_number": 11
    },
    {
     "cell_type": "code",
     "collapsed": false,
     "input": [
      "forward(50)"
     ],
     "language": "python",
     "metadata": {},
     "outputs": [],
     "prompt_number": 12
    },
    {
     "cell_type": "code",
     "collapsed": false,
     "input": [
      "forward(10)"
     ],
     "language": "python",
     "metadata": {},
     "outputs": [],
     "prompt_number": 9
    },
    {
     "cell_type": "code",
     "collapsed": false,
     "input": [
      "reset()\n",
      "\n",
      "forward(50)\n",
      "right(45)\n",
      "forward(50)"
     ],
     "language": "python",
     "metadata": {},
     "outputs": [],
     "prompt_number": 14
    },
    {
     "cell_type": "code",
     "collapsed": false,
     "input": [
      "reset()\n",
      "\n",
      "length_of_a_side=150\n",
      "\n",
      "forward(length_of_a_side)\n",
      "right(90)\n",
      "\n",
      "forward(length_of_a_side)\n",
      "right(90)\n",
      "\n",
      "forward(length_of_a_side)\n",
      "right(90)\n",
      "\n",
      "forward(length_of_a_side)\n",
      "right(90)\n"
     ],
     "language": "python",
     "metadata": {},
     "outputs": [],
     "prompt_number": 24
    },
    {
     "cell_type": "code",
     "collapsed": false,
     "input": [
      "reset()\n",
      "\n",
      "length_of_a_side=150\n",
      "\n",
      "print \"start here\"\n",
      "for i in range(4):\n",
      "    forward(length_of_a_side)\n",
      "    right(90)\n",
      "    print \"in the loop \",i\n",
      "    \n",
      "print \"end here\"\n"
     ],
     "language": "python",
     "metadata": {},
     "outputs": [
      {
       "output_type": "stream",
       "stream": "stdout",
       "text": [
        "start here\n",
        "in the loop "
       ]
      },
      {
       "output_type": "stream",
       "stream": "stdout",
       "text": [
        " 0\n",
        "in the loop "
       ]
      },
      {
       "output_type": "stream",
       "stream": "stdout",
       "text": [
        " 1\n",
        "in the loop "
       ]
      },
      {
       "output_type": "stream",
       "stream": "stdout",
       "text": [
        " 2\n",
        "in the loop "
       ]
      },
      {
       "output_type": "stream",
       "stream": "stdout",
       "text": [
        " 3\n",
        "end here\n"
       ]
      }
     ],
     "prompt_number": 25
    },
    {
     "cell_type": "code",
     "collapsed": false,
     "input": [
      "length_of_a_side"
     ],
     "language": "python",
     "metadata": {},
     "outputs": [
      {
       "metadata": {},
       "output_type": "pyout",
       "prompt_number": 26,
       "text": [
        "150"
       ]
      }
     ],
     "prompt_number": 26
    },
    {
     "cell_type": "code",
     "collapsed": false,
     "input": [
      "def draw_square(length_of_a_side):\n",
      "    forward(length_of_a_side)\n",
      "    right(90)\n",
      "\n",
      "    forward(length_of_a_side)\n",
      "    right(90)\n",
      "\n",
      "    forward(length_of_a_side)\n",
      "    right(90)\n",
      "\n",
      "    forward(length_of_a_side)\n",
      "    right(90)\n"
     ],
     "language": "python",
     "metadata": {},
     "outputs": [],
     "prompt_number": 29
    },
    {
     "cell_type": "code",
     "collapsed": false,
     "input": [
      "reset()\n",
      "draw_square(30)\n",
      "forward(30)\n",
      "\n",
      "draw_square(30)\n",
      "forward(30)\n",
      "\n",
      "draw_square(30)\n",
      "forward(30)"
     ],
     "language": "python",
     "metadata": {},
     "outputs": [],
     "prompt_number": 31
    },
    {
     "cell_type": "code",
     "collapsed": false,
     "input": [
      "def draw_row():\n",
      "  for i in range(6):\n",
      "    draw_square(30)\n",
      "    forward(30)\n",
      "  \n",
      "def back_over():\n",
      "    backward(6*30)\n",
      "    right(90)\n",
      "    forward(30)\n",
      "    left(90)"
     ],
     "language": "python",
     "metadata": {},
     "outputs": [],
     "prompt_number": 36
    },
    {
     "cell_type": "code",
     "collapsed": false,
     "input": [
      "reset()\n",
      "for i in range(6):\n",
      "    draw_row()\n",
      "    back_over()\n"
     ],
     "language": "python",
     "metadata": {},
     "outputs": [],
     "prompt_number": 38
    },
    {
     "cell_type": "code",
     "collapsed": false,
     "input": [
      "reset()\n",
      "draw_row()\n",
      "\n",
      "back_over()\n",
      "\n",
      "draw_row()\n"
     ],
     "language": "python",
     "metadata": {},
     "outputs": [],
     "prompt_number": 37
    },
    {
     "cell_type": "code",
     "collapsed": false,
     "input": [],
     "language": "python",
     "metadata": {},
     "outputs": []
    }
   ],
   "metadata": {}
  }
 ]
}