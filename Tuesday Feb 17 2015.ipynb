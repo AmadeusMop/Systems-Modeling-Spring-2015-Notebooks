{
 "metadata": {
  "name": "",
  "signature": "sha256:17de8a0c775864f3a94ed78d7419317716d4c2c376b0522799ac510033f843ca"
 },
 "nbformat": 3,
 "nbformat_minor": 0,
 "worksheets": [
  {
   "cells": [
    {
     "cell_type": "code",
     "collapsed": false,
     "input": [
      "from science import *"
     ],
     "language": "python",
     "metadata": {},
     "outputs": [],
     "prompt_number": 1
    },
    {
     "cell_type": "code",
     "collapsed": false,
     "input": [
      "pwd"
     ],
     "language": "python",
     "metadata": {},
     "outputs": [
      {
       "metadata": {},
       "output_type": "pyout",
       "prompt_number": 2,
       "text": [
        "u'/Users/bblais/tex/bryant/systems_modeling_460_560/python/Systems Modeling Spring 2015 Notebooks'"
       ]
      }
     ],
     "prompt_number": 2
    },
    {
     "cell_type": "code",
     "collapsed": false,
     "input": [
      "data=pandas.read_excel('data/s009.xls',skiprows=[0,1])"
     ],
     "language": "python",
     "metadata": {},
     "outputs": [],
     "prompt_number": 3
    },
    {
     "cell_type": "code",
     "collapsed": false,
     "input": [
      "data"
     ],
     "language": "python",
     "metadata": {},
     "outputs": [
      {
       "html": [
        "<div style=\"max-height:1000px;max-width:1500px;overflow:auto;\">\n",
        "<table border=\"1\" class=\"dataframe\">\n",
        "  <thead>\n",
        "    <tr style=\"text-align: right;\">\n",
        "      <th></th>\n",
        "      <th>day</th>\n",
        "      <th>height (cm)</th>\n",
        "    </tr>\n",
        "  </thead>\n",
        "  <tbody>\n",
        "    <tr>\n",
        "      <th>0 </th>\n",
        "      <td>  0</td>\n",
        "      <td>   0.00</td>\n",
        "    </tr>\n",
        "    <tr>\n",
        "      <th>1 </th>\n",
        "      <td>  7</td>\n",
        "      <td>  17.93</td>\n",
        "    </tr>\n",
        "    <tr>\n",
        "      <th>2 </th>\n",
        "      <td> 14</td>\n",
        "      <td>  36.36</td>\n",
        "    </tr>\n",
        "    <tr>\n",
        "      <th>3 </th>\n",
        "      <td> 21</td>\n",
        "      <td>  67.76</td>\n",
        "    </tr>\n",
        "    <tr>\n",
        "      <th>4 </th>\n",
        "      <td> 28</td>\n",
        "      <td>  98.10</td>\n",
        "    </tr>\n",
        "    <tr>\n",
        "      <th>5 </th>\n",
        "      <td> 35</td>\n",
        "      <td> 131.00</td>\n",
        "    </tr>\n",
        "    <tr>\n",
        "      <th>6 </th>\n",
        "      <td> 42</td>\n",
        "      <td> 169.50</td>\n",
        "    </tr>\n",
        "    <tr>\n",
        "      <th>7 </th>\n",
        "      <td> 49</td>\n",
        "      <td> 205.50</td>\n",
        "    </tr>\n",
        "    <tr>\n",
        "      <th>8 </th>\n",
        "      <td> 56</td>\n",
        "      <td> 228.30</td>\n",
        "    </tr>\n",
        "    <tr>\n",
        "      <th>9 </th>\n",
        "      <td> 63</td>\n",
        "      <td> 247.10</td>\n",
        "    </tr>\n",
        "    <tr>\n",
        "      <th>10</th>\n",
        "      <td> 70</td>\n",
        "      <td> 250.50</td>\n",
        "    </tr>\n",
        "    <tr>\n",
        "      <th>11</th>\n",
        "      <td> 77</td>\n",
        "      <td> 253.80</td>\n",
        "    </tr>\n",
        "    <tr>\n",
        "      <th>12</th>\n",
        "      <td> 84</td>\n",
        "      <td> 254.50</td>\n",
        "    </tr>\n",
        "  </tbody>\n",
        "</table>\n",
        "</div>"
       ],
       "metadata": {},
       "output_type": "pyout",
       "prompt_number": 4,
       "text": [
        "    day  height (cm)\n",
        "0     0         0.00\n",
        "1     7        17.93\n",
        "2    14        36.36\n",
        "3    21        67.76\n",
        "4    28        98.10\n",
        "5    35       131.00\n",
        "6    42       169.50\n",
        "7    49       205.50\n",
        "8    56       228.30\n",
        "9    63       247.10\n",
        "10   70       250.50\n",
        "11   77       253.80\n",
        "12   84       254.50"
       ]
      }
     ],
     "prompt_number": 4
    },
    {
     "cell_type": "code",
     "collapsed": false,
     "input": [
      "t_data=data['day']\n",
      "y_data=data['height (cm)']\n",
      "plot(t_data,y_data,'o')"
     ],
     "language": "python",
     "metadata": {},
     "outputs": [
      {
       "metadata": {},
       "output_type": "pyout",
       "prompt_number": 5,
       "text": [
        "[<matplotlib.lines.Line2D at 0x10fd9d290>]"
       ]
      },
      {
       "metadata": {},
       "output_type": "display_data",
       "png": "[encoded data removed]",
       "text": [
        "<matplotlib.figure.Figure at 0x1004356d0>"
       ]
      }
     ],
     "prompt_number": 5
    },
    {
     "cell_type": "markdown",
     "metadata": {},
     "source": [
      "## Linear growth example\n",
      "\n",
      "$y' = {\\rm constant}$"
     ]
    },
    {
     "cell_type": "code",
     "collapsed": false,
     "input": [
      "y=2\n",
      "t=0\n",
      "\n",
      "constant=10\n",
      "dt=0.01"
     ],
     "language": "python",
     "metadata": {},
     "outputs": [],
     "prompt_number": 6
    },
    {
     "cell_type": "code",
     "collapsed": false,
     "input": [
      "reset()\n",
      "\n",
      "store(t,y)\n",
      "for i in range(9000):\n",
      "    dy=constant*dt\n",
      "    \n",
      "    y=y+dy\n",
      "    t=t+dt\n",
      "    \n",
      "    if i%100 == 0 :  # if the remainder with i/100 = 0 (i.e. i is divisible by 100)\n",
      "        store(t,y)"
     ],
     "language": "python",
     "metadata": {},
     "outputs": [],
     "prompt_number": 7
    },
    {
     "cell_type": "code",
     "collapsed": false,
     "input": [
      "t,y=recall()"
     ],
     "language": "python",
     "metadata": {},
     "outputs": [],
     "prompt_number": 8
    },
    {
     "cell_type": "code",
     "collapsed": false,
     "input": [
      "plot(t,y)\n",
      "plot(t_data,y_data,'o')"
     ],
     "language": "python",
     "metadata": {},
     "outputs": [
      {
       "metadata": {},
       "output_type": "pyout",
       "prompt_number": 10,
       "text": [
        "[<matplotlib.lines.Line2D at 0x10ff5ca90>]"
       ]
      },
      {
       "metadata": {},
       "output_type": "display_data",
       "png": "[encoded data removed]",
       "text": [
        "<matplotlib.figure.Figure at 0x10ff5c410>"
       ]
      }
     ],
     "prompt_number": 10
    },
    {
     "cell_type": "markdown",
     "metadata": {},
     "source": [
      "## Exponential Growth\n",
      "\n",
      "$y'=my$  where $m$ is a growth constant"
     ]
    },
    {
     "cell_type": "code",
     "collapsed": false,
     "input": [
      "y=.1\n",
      "t=0\n",
      "\n",
      "constant=.2\n",
      "dt=0.01"
     ],
     "language": "python",
     "metadata": {},
     "outputs": [],
     "prompt_number": 64
    },
    {
     "cell_type": "code",
     "collapsed": false,
     "input": [
      "reset()\n",
      "\n",
      "store(t,y)\n",
      "for i in range(4000):\n",
      "    dy=constant*y*dt\n",
      "    \n",
      "    y=y+dy\n",
      "    t=t+dt\n",
      "    \n",
      "    if i%100 == 0 :  # if the remainder with i/100 = 0 (i.e. i is divisible by 100)\n",
      "        store(t,y)"
     ],
     "language": "python",
     "metadata": {},
     "outputs": [],
     "prompt_number": 65
    },
    {
     "cell_type": "code",
     "collapsed": false,
     "input": [
      "t,y=recall()"
     ],
     "language": "python",
     "metadata": {},
     "outputs": [],
     "prompt_number": 66
    },
    {
     "cell_type": "code",
     "collapsed": false,
     "input": [
      "plot(t,y)\n",
      "plot(t_data,y_data,'o')"
     ],
     "language": "python",
     "metadata": {},
     "outputs": [
      {
       "metadata": {},
       "output_type": "pyout",
       "prompt_number": 67,
       "text": [
        "[<matplotlib.lines.Line2D at 0x112098310>]"
       ]
      },
      {
       "metadata": {},
       "output_type": "display_data",
       "png": "[encoded data removed]",
       "text": [
        "<matplotlib.figure.Figure at 0x112098110>"
       ]
      }
     ],
     "prompt_number": 67
    },
    {
     "cell_type": "code",
     "collapsed": false,
     "input": [
      "y"
     ],
     "language": "python",
     "metadata": {},
     "outputs": [
      {
       "metadata": {},
       "output_type": "pyout",
       "prompt_number": 55,
       "text": [
        "array([  0.1       ,   0.10006   ,   0.10624545,   0.11281328,\n",
        "         0.1197871 ,   0.12719204,   0.13505472,   0.14340346,\n",
        "         0.15226829,   0.16168113,   0.17167584,   0.18228841,\n",
        "         0.19355701,   0.20552221,   0.21822706,   0.2317173 ,\n",
        "         0.24604147,   0.26125113,   0.277401  ,   0.29454922,\n",
        "         0.3127575 ,   0.33209137,   0.35262041,   0.3744185 ,\n",
        "         0.3975641 ,   0.42214049,   0.44823614,   0.47594495,\n",
        "         0.50536665,   0.53660712,   0.5697788 ,   0.60500107,\n",
        "         0.64240069,   0.68211225,   0.72427869,   0.76905174,\n",
        "         0.81659255,   0.86707221,   0.9206724 ,   0.97758601,\n",
        "         1.03801788,   1.10218549,   1.17031977,   1.24266595,\n",
        "         1.31948438,   1.40105152,   1.48766095,   1.57962434,\n",
        "         1.67727267,   1.78095738,   1.89105161,   2.00795158,\n",
        "         2.13207801,   2.26387761,   2.40382474,   2.55242303,\n",
        "         2.71020729,   2.87774537,   3.05564023,   3.24453209,\n",
        "         3.44510076,   3.65806807,   3.88420048,   4.12431182,\n",
        "         4.37926622,   4.64998125,   4.93743119,   5.24265056,\n",
        "         5.5667378 ,   5.91085929,   6.27625349,   6.66423542,\n",
        "         7.0762014 ,   7.51363406,   7.9781077 ,   8.4712939 ,\n",
        "         8.99496761,   9.5510135 ,  10.14143271,  10.76835013,\n",
        "        11.43402199,  12.14084397,  12.89135988,  13.68827076,\n",
        "        14.53444463,  15.43292681,  16.38695086,  17.39995023,\n",
        "        18.47557063,  19.61768314,  20.83039811])"
       ]
      }
     ],
     "prompt_number": 55
    },
    {
     "cell_type": "code",
     "collapsed": false,
     "input": [],
     "language": "python",
     "metadata": {},
     "outputs": [],
     "prompt_number": 55
    },
    {
     "cell_type": "code",
     "collapsed": false,
     "input": [],
     "language": "python",
     "metadata": {},
     "outputs": []
    }
   ],
   "metadata": {}
  }
 ]
}